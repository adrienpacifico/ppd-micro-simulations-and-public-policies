{
 "cells": [
  {
   "cell_type": "markdown",
   "metadata": {
    "collapsed": false,
    "scrolled": true
   },
   "source": [
    "# Microsimulation with artificial survey data "
   ]
  },
  {
   "cell_type": "code",
   "execution_count": null,
   "metadata": {
    "collapsed": false
   },
   "outputs": [],
   "source": [
    "import matplotlib.pyplot as plt  # For graphics\n",
    "%matplotlib inline\n",
    "\n",
    "import numpy as np  # linear algebra and math\n",
    "import pandas as pd  # data frames\n",
    "\n",
    "from openfisca_senegal import SenegalTaxBenefitSystem  # The Senegalese tax-benefits system\n",
    "\n",
    "from openfisca_senegal.survey_scenarios import SenegalSurveyScenario"
   ]
  },
  {
   "cell_type": "markdown",
   "metadata": {},
   "source": [
    "## Building the artificial data"
   ]
  },
  {
   "cell_type": "markdown",
   "metadata": {},
   "source": [
    "Sénégal is composed by almost 15 millions people dispatched in around 1.6 million household"
   ]
  },
  {
   "cell_type": "code",
   "execution_count": null,
   "metadata": {
    "collapsed": false
   },
   "outputs": [],
   "source": [
    "household_weight = 100\n",
    "size = int(1.6e6 / household_weight)\n",
    "print \"Size of the sample: {}\".format(size)"
   ]
  },
  {
   "cell_type": "markdown",
   "metadata": {},
   "source": [
    "We assume that 2/3 of the household heads are married and that only married houshold do have children. The mean number of children per household is 5 and is normally distributed"
   ]
  },
  {
   "cell_type": "code",
   "execution_count": null,
   "metadata": {
    "collapsed": true
   },
   "outputs": [],
   "source": [
    "est_marie = np.random.binomial(1, .66, size = size)\n",
    "est_celibataire = np.logical_not(est_marie)\n",
    "nombre_enfants = np.maximum(\n",
    "    est_marie * np.round(np.random.normal(5, scale = 3, size = size)),\n",
    "    0,\n",
    "    )"
   ]
  },
  {
   "cell_type": "markdown",
   "metadata": {},
   "source": [
    "We assume that 80% of the population are wage earners.\n",
    "We choose a mean wage of 5 000 0000 CFA with a log normal ditribution.\n",
    "Since \n",
    "$$ \\text{mean wage}  = e^{\\mu + \\frac{\\sigma ^ 2}{2}} $$ \n",
    "and\n",
    "$$ \\text{median wage} = e^\\mu $$\n",
    "we can compute the distribution according to the following expressions."
   ]
  },
  {
   "cell_type": "code",
   "execution_count": null,
   "metadata": {
    "collapsed": true
   },
   "outputs": [],
   "source": [
    "mean_wage = 5e6\n",
    "median_wage = .75 * mean_wage\n",
    "est_salarie = np.random.binomial(1, .8, size = size)\n",
    "mu = np.log(median_wage)\n",
    "sigma = np.sqrt(2 * np.log(mean_wage / median_wage))\n",
    "salaire = (\n",
    "    est_salarie * \n",
    "    np.random.lognormal(mean = mu, sigma = sigma, size = int(size))\n",
    "    )\n"
   ]
  },
  {
   "cell_type": "markdown",
   "metadata": {},
   "source": [
    "We choose a mean pension of 2 500 000 CFA"
   ]
  },
  {
   "cell_type": "code",
   "execution_count": null,
   "metadata": {
    "collapsed": false
   },
   "outputs": [],
   "source": [
    "mean_pension = 2.5e6\n",
    "median_pension = .9 * mean_pension"
   ]
  },
  {
   "cell_type": "code",
   "execution_count": null,
   "metadata": {
    "collapsed": false
   },
   "outputs": [],
   "source": [
    "mu = np.log(median_pension)\n",
    "sigma = np.sqrt(2 * np.log(mean_pension / median_pension))\n",
    "pension_retraite = (\n",
    "    np.logical_not(est_salarie) *\n",
    "    np.random.lognormal(mean = mu, sigma = sigma, size = int(size))\n",
    "    )"
   ]
  },
  {
   "cell_type": "code",
   "execution_count": null,
   "metadata": {
    "collapsed": false
   },
   "outputs": [],
   "source": [
    "input_data_frame = pd.DataFrame({\n",
    "    'est_marie': est_marie,\n",
    "    'est_celibataire': est_celibataire,\n",
    "    'nombre_enfants': nombre_enfants,\n",
    "    'pension_retraite': pension_retraite,\n",
    "    'salaire': salaire,\n",
    "    'id_famille': range(size),\n",
    "    'role_famille': 0,\n",
    "    })"
   ]
  },
  {
   "cell_type": "code",
   "execution_count": null,
   "metadata": {
    "collapsed": false
   },
   "outputs": [],
   "source": [
    "input_data_frame.salaire.hist(bins=100)"
   ]
  },
  {
   "cell_type": "code",
   "execution_count": null,
   "metadata": {
    "collapsed": false
   },
   "outputs": [],
   "source": [
    "input_data_frame.pension_retraite.hist(bins=100)"
   ]
  },
  {
   "cell_type": "markdown",
   "metadata": {},
   "source": [
    "## Microsimulation "
   ]
  },
  {
   "cell_type": "markdown",
   "metadata": {},
   "source": [
    "As with test case, we can build a scenario with survey data"
   ]
  },
  {
   "cell_type": "code",
   "execution_count": null,
   "metadata": {
    "collapsed": false
   },
   "outputs": [],
   "source": [
    "scenario = SenegalSurveyScenario(input_data_frame=input_data_frame, year = 2017)"
   ]
  },
  {
   "cell_type": "markdown",
   "metadata": {},
   "source": [
    "We can compute the value of any variable for the whole population an draw distributions"
   ]
  },
  {
   "cell_type": "code",
   "execution_count": null,
   "metadata": {
    "collapsed": false
   },
   "outputs": [],
   "source": [
    "pd.DataFrame({'impot': scenario.simulation.calculate('impot_revenus', period = 2017)}).hist(bins = 100)"
   ]
  },
  {
   "cell_type": "markdown",
   "metadata": {},
   "source": [
    "Special methods allow access to aggregates and pivot tables"
   ]
  },
  {
   "cell_type": "code",
   "execution_count": null,
   "metadata": {
    "collapsed": false
   },
   "outputs": [],
   "source": [
    "scenario.compute_aggregate('impot_revenus')"
   ]
  },
  {
   "cell_type": "code",
   "execution_count": null,
   "metadata": {
    "collapsed": false
   },
   "outputs": [],
   "source": [
    "scenario.compute_pivot_table(\n",
    "    aggfunc = 'sum', \n",
    "    values = ['impot_revenus'], \n",
    "    columns = ['nombre_enfants'],\n",
    "    period = 2017,\n",
    "    ).stack().reset_index().plot(x = 'nombre_enfants')"
   ]
  },
  {
   "cell_type": "markdown",
   "metadata": {
    "collapsed": true
   },
   "source": [
    "# Evaluate the financial impact of a reform"
   ]
  },
  {
   "cell_type": "markdown",
   "metadata": {
    "collapsed": true
   },
   "source": [
    "Write a parametric reform tthat increseases the top marginal tax rates and evaluate how much revenue can be collected"
   ]
  },
  {
   "cell_type": "code",
   "execution_count": null,
   "metadata": {
    "collapsed": true
   },
   "outputs": [],
   "source": []
  }
 ],
 "metadata": {
  "kernelspec": {
   "display_name": "Python 2",
   "language": "python",
   "name": "python2"
  },
  "language_info": {
   "codemirror_mode": {
    "name": "ipython",
    "version": 2
   },
   "file_extension": ".py",
   "mimetype": "text/x-python",
   "name": "python",
   "nbconvert_exporter": "python",
   "pygments_lexer": "ipython2",
   "version": "2.7.14+"
  }
 },
 "nbformat": 4,
 "nbformat_minor": 2
}
